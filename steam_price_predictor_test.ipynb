{
 "cells": [
  {
   "cell_type": "markdown",
   "metadata": {},
   "source": [
    "# Using SteamDB price history data to predict when a game will go on sale"
   ]
  },
  {
   "cell_type": "markdown",
   "metadata": {},
   "source": [
    "Import necessary packages"
   ]
  },
  {
   "cell_type": "code",
   "execution_count": 1,
   "metadata": {},
   "outputs": [],
   "source": [
    "import pandas as pd\n",
    "import numpy as np\n",
    "import sklearn as sk"
   ]
  },
  {
   "cell_type": "markdown",
   "metadata": {},
   "source": [
    "Get sample data from SteamDB\n",
    "\n",
    "Columns: Date, Final Price, Historical Low Price"
   ]
  },
  {
   "cell_type": "code",
   "execution_count": 2,
   "metadata": {},
   "outputs": [
    {
     "data": {
      "text/html": [
       "<div>\n",
       "<style scoped>\n",
       "    .dataframe tbody tr th:only-of-type {\n",
       "        vertical-align: middle;\n",
       "    }\n",
       "\n",
       "    .dataframe tbody tr th {\n",
       "        vertical-align: top;\n",
       "    }\n",
       "\n",
       "    .dataframe thead th {\n",
       "        text-align: right;\n",
       "    }\n",
       "</style>\n",
       "<table border=\"1\" class=\"dataframe\">\n",
       "  <thead>\n",
       "    <tr style=\"text-align: right;\">\n",
       "      <th></th>\n",
       "      <th>DateTime</th>\n",
       "      <th>Final price</th>\n",
       "      <th>Historical low</th>\n",
       "    </tr>\n",
       "  </thead>\n",
       "  <tbody>\n",
       "    <tr>\n",
       "      <th>0</th>\n",
       "      <td>2021-09-28 16:05:29</td>\n",
       "      <td>13.49</td>\n",
       "      <td>13.49</td>\n",
       "    </tr>\n",
       "    <tr>\n",
       "      <th>1</th>\n",
       "      <td>2021-10-05 17:06:59</td>\n",
       "      <td>14.99</td>\n",
       "      <td>13.49</td>\n",
       "    </tr>\n",
       "    <tr>\n",
       "      <th>2</th>\n",
       "      <td>2021-10-28 17:40:52</td>\n",
       "      <td>11.99</td>\n",
       "      <td>11.99</td>\n",
       "    </tr>\n",
       "    <tr>\n",
       "      <th>3</th>\n",
       "      <td>2021-11-01 18:56:37</td>\n",
       "      <td>14.99</td>\n",
       "      <td>11.99</td>\n",
       "    </tr>\n",
       "    <tr>\n",
       "      <th>4</th>\n",
       "      <td>2021-11-24 18:07:44</td>\n",
       "      <td>11.99</td>\n",
       "      <td>11.99</td>\n",
       "    </tr>\n",
       "    <tr>\n",
       "      <th>...</th>\n",
       "      <td>...</td>\n",
       "      <td>...</td>\n",
       "      <td>...</td>\n",
       "    </tr>\n",
       "    <tr>\n",
       "      <th>56</th>\n",
       "      <td>2024-07-11 17:31:46</td>\n",
       "      <td>14.99</td>\n",
       "      <td>9.89</td>\n",
       "    </tr>\n",
       "    <tr>\n",
       "      <th>57</th>\n",
       "      <td>2024-07-11 18:00:31</td>\n",
       "      <td>9.89</td>\n",
       "      <td>9.89</td>\n",
       "    </tr>\n",
       "    <tr>\n",
       "      <th>58</th>\n",
       "      <td>2024-07-20 18:05:02</td>\n",
       "      <td>14.99</td>\n",
       "      <td>9.89</td>\n",
       "    </tr>\n",
       "    <tr>\n",
       "      <th>59</th>\n",
       "      <td>2024-09-04 01:41:36</td>\n",
       "      <td>14.99</td>\n",
       "      <td>9.89</td>\n",
       "    </tr>\n",
       "    <tr>\n",
       "      <th>60</th>\n",
       "      <td>2024-09-04 01:41:36</td>\n",
       "      <td>NaN</td>\n",
       "      <td>9.89</td>\n",
       "    </tr>\n",
       "  </tbody>\n",
       "</table>\n",
       "<p>61 rows × 3 columns</p>\n",
       "</div>"
      ],
      "text/plain": [
       "               DateTime  Final price  Historical low\n",
       "0   2021-09-28 16:05:29        13.49           13.49\n",
       "1   2021-10-05 17:06:59        14.99           13.49\n",
       "2   2021-10-28 17:40:52        11.99           11.99\n",
       "3   2021-11-01 18:56:37        14.99           11.99\n",
       "4   2021-11-24 18:07:44        11.99           11.99\n",
       "..                  ...          ...             ...\n",
       "56  2024-07-11 17:31:46        14.99            9.89\n",
       "57  2024-07-11 18:00:31         9.89            9.89\n",
       "58  2024-07-20 18:05:02        14.99            9.89\n",
       "59  2024-09-04 01:41:36        14.99            9.89\n",
       "60  2024-09-04 01:41:36          NaN            9.89\n",
       "\n",
       "[61 rows x 3 columns]"
      ]
     },
     "execution_count": 2,
     "metadata": {},
     "output_type": "execute_result"
    }
   ],
   "source": [
    "data = pd.read_csv('chart.csv')\n",
    "data"
   ]
  },
  {
   "cell_type": "markdown",
   "metadata": {},
   "source": [
    "Convert given DateTime format into separate year, month, and day columns for easier training"
   ]
  },
  {
   "cell_type": "code",
   "execution_count": 3,
   "metadata": {},
   "outputs": [
    {
     "data": {
      "text/html": [
       "<div>\n",
       "<style scoped>\n",
       "    .dataframe tbody tr th:only-of-type {\n",
       "        vertical-align: middle;\n",
       "    }\n",
       "\n",
       "    .dataframe tbody tr th {\n",
       "        vertical-align: top;\n",
       "    }\n",
       "\n",
       "    .dataframe thead th {\n",
       "        text-align: right;\n",
       "    }\n",
       "</style>\n",
       "<table border=\"1\" class=\"dataframe\">\n",
       "  <thead>\n",
       "    <tr style=\"text-align: right;\">\n",
       "      <th></th>\n",
       "      <th>DateTime</th>\n",
       "      <th>Final price</th>\n",
       "      <th>Historical low</th>\n",
       "      <th>year</th>\n",
       "      <th>month</th>\n",
       "      <th>day</th>\n",
       "    </tr>\n",
       "  </thead>\n",
       "  <tbody>\n",
       "    <tr>\n",
       "      <th>0</th>\n",
       "      <td>2021-09-28 16:05:29</td>\n",
       "      <td>13.49</td>\n",
       "      <td>13.49</td>\n",
       "      <td>2021</td>\n",
       "      <td>9</td>\n",
       "      <td>28</td>\n",
       "    </tr>\n",
       "    <tr>\n",
       "      <th>1</th>\n",
       "      <td>2021-10-05 17:06:59</td>\n",
       "      <td>14.99</td>\n",
       "      <td>13.49</td>\n",
       "      <td>2021</td>\n",
       "      <td>10</td>\n",
       "      <td>5</td>\n",
       "    </tr>\n",
       "    <tr>\n",
       "      <th>2</th>\n",
       "      <td>2021-10-28 17:40:52</td>\n",
       "      <td>11.99</td>\n",
       "      <td>11.99</td>\n",
       "      <td>2021</td>\n",
       "      <td>10</td>\n",
       "      <td>28</td>\n",
       "    </tr>\n",
       "    <tr>\n",
       "      <th>3</th>\n",
       "      <td>2021-11-01 18:56:37</td>\n",
       "      <td>14.99</td>\n",
       "      <td>11.99</td>\n",
       "      <td>2021</td>\n",
       "      <td>11</td>\n",
       "      <td>1</td>\n",
       "    </tr>\n",
       "    <tr>\n",
       "      <th>4</th>\n",
       "      <td>2021-11-24 18:07:44</td>\n",
       "      <td>11.99</td>\n",
       "      <td>11.99</td>\n",
       "      <td>2021</td>\n",
       "      <td>11</td>\n",
       "      <td>24</td>\n",
       "    </tr>\n",
       "  </tbody>\n",
       "</table>\n",
       "</div>"
      ],
      "text/plain": [
       "             DateTime  Final price  Historical low  year  month  day\n",
       "0 2021-09-28 16:05:29        13.49           13.49  2021      9   28\n",
       "1 2021-10-05 17:06:59        14.99           13.49  2021     10    5\n",
       "2 2021-10-28 17:40:52        11.99           11.99  2021     10   28\n",
       "3 2021-11-01 18:56:37        14.99           11.99  2021     11    1\n",
       "4 2021-11-24 18:07:44        11.99           11.99  2021     11   24"
      ]
     },
     "execution_count": 3,
     "metadata": {},
     "output_type": "execute_result"
    }
   ],
   "source": [
    "data['DateTime'] = pd.to_datetime(data['DateTime'])\n",
    "\n",
    "data['year'] = data['DateTime'].dt.year\n",
    "data['month'] = data['DateTime'].dt.month\n",
    "data['day'] = data['DateTime'].dt.day\n",
    "\n",
    "data.head()\n"
   ]
  },
  {
   "cell_type": "markdown",
   "metadata": {},
   "source": [
    "Create a column that says if the final price is equal to the historical low (best deal price)"
   ]
  },
  {
   "cell_type": "code",
   "execution_count": 4,
   "metadata": {},
   "outputs": [
    {
     "data": {
      "text/html": [
       "<div>\n",
       "<style scoped>\n",
       "    .dataframe tbody tr th:only-of-type {\n",
       "        vertical-align: middle;\n",
       "    }\n",
       "\n",
       "    .dataframe tbody tr th {\n",
       "        vertical-align: top;\n",
       "    }\n",
       "\n",
       "    .dataframe thead th {\n",
       "        text-align: right;\n",
       "    }\n",
       "</style>\n",
       "<table border=\"1\" class=\"dataframe\">\n",
       "  <thead>\n",
       "    <tr style=\"text-align: right;\">\n",
       "      <th></th>\n",
       "      <th>DateTime</th>\n",
       "      <th>Final price</th>\n",
       "      <th>Historical low</th>\n",
       "      <th>year</th>\n",
       "      <th>month</th>\n",
       "      <th>day</th>\n",
       "      <th>price_equal</th>\n",
       "    </tr>\n",
       "  </thead>\n",
       "  <tbody>\n",
       "    <tr>\n",
       "      <th>0</th>\n",
       "      <td>2021-09-28 16:05:29</td>\n",
       "      <td>13.49</td>\n",
       "      <td>13.49</td>\n",
       "      <td>2021</td>\n",
       "      <td>9</td>\n",
       "      <td>28</td>\n",
       "      <td>1</td>\n",
       "    </tr>\n",
       "    <tr>\n",
       "      <th>1</th>\n",
       "      <td>2021-10-05 17:06:59</td>\n",
       "      <td>14.99</td>\n",
       "      <td>13.49</td>\n",
       "      <td>2021</td>\n",
       "      <td>10</td>\n",
       "      <td>5</td>\n",
       "      <td>0</td>\n",
       "    </tr>\n",
       "    <tr>\n",
       "      <th>2</th>\n",
       "      <td>2021-10-28 17:40:52</td>\n",
       "      <td>11.99</td>\n",
       "      <td>11.99</td>\n",
       "      <td>2021</td>\n",
       "      <td>10</td>\n",
       "      <td>28</td>\n",
       "      <td>1</td>\n",
       "    </tr>\n",
       "    <tr>\n",
       "      <th>3</th>\n",
       "      <td>2021-11-01 18:56:37</td>\n",
       "      <td>14.99</td>\n",
       "      <td>11.99</td>\n",
       "      <td>2021</td>\n",
       "      <td>11</td>\n",
       "      <td>1</td>\n",
       "      <td>0</td>\n",
       "    </tr>\n",
       "    <tr>\n",
       "      <th>4</th>\n",
       "      <td>2021-11-24 18:07:44</td>\n",
       "      <td>11.99</td>\n",
       "      <td>11.99</td>\n",
       "      <td>2021</td>\n",
       "      <td>11</td>\n",
       "      <td>24</td>\n",
       "      <td>1</td>\n",
       "    </tr>\n",
       "  </tbody>\n",
       "</table>\n",
       "</div>"
      ],
      "text/plain": [
       "             DateTime  Final price  Historical low  year  month  day  \\\n",
       "0 2021-09-28 16:05:29        13.49           13.49  2021      9   28   \n",
       "1 2021-10-05 17:06:59        14.99           13.49  2021     10    5   \n",
       "2 2021-10-28 17:40:52        11.99           11.99  2021     10   28   \n",
       "3 2021-11-01 18:56:37        14.99           11.99  2021     11    1   \n",
       "4 2021-11-24 18:07:44        11.99           11.99  2021     11   24   \n",
       "\n",
       "   price_equal  \n",
       "0            1  \n",
       "1            0  \n",
       "2            1  \n",
       "3            0  \n",
       "4            1  "
      ]
     },
     "execution_count": 4,
     "metadata": {},
     "output_type": "execute_result"
    }
   ],
   "source": [
    "data['price_equal'] = np.where(data['Final price'] == data['Historical low'], 1, 0)\n",
    "\n",
    "data.head()"
   ]
  },
  {
   "cell_type": "code",
   "execution_count": 5,
   "metadata": {},
   "outputs": [
    {
     "name": "stdout",
     "output_type": "stream",
     "text": [
      "                DateTime  Final price  Historical low  year  month  day  \\\n",
      "0    2021-09-28 16:05:29        13.49           13.49  2021      9   28   \n",
      "1    2021-09-29 16:05:29        13.49           13.49  2021      9   29   \n",
      "2    2021-09-30 16:05:29        13.49           13.49  2021      9   30   \n",
      "3    2021-10-01 16:05:29        13.49           13.49  2021     10    1   \n",
      "4    2021-10-02 16:05:29        13.49           13.49  2021     10    2   \n",
      "...                  ...          ...             ...   ...    ...  ...   \n",
      "1099 2024-09-01 18:05:02        14.99            9.89  2024      9    1   \n",
      "1100 2024-09-02 18:05:02        14.99            9.89  2024      9    2   \n",
      "1101 2024-09-03 18:05:02        14.99            9.89  2024      9    3   \n",
      "1102 2024-09-04 01:41:36          NaN            9.89  2024      9    4   \n",
      "1103 2024-09-04 01:41:36        14.99            9.89  2024      9    4   \n",
      "\n",
      "      price_equal  \n",
      "0               1  \n",
      "1               1  \n",
      "2               1  \n",
      "3               1  \n",
      "4               1  \n",
      "...           ...  \n",
      "1099            0  \n",
      "1100            0  \n",
      "1101            0  \n",
      "1102            0  \n",
      "1103            0  \n",
      "\n",
      "[1104 rows x 7 columns]\n"
     ]
    }
   ],
   "source": [
    "from datetime import timedelta\n",
    "\n",
    "def add_missing_dates(df):\n",
    "    new_rows = []\n",
    "    for i in range(len(df) - 1):\n",
    "        current_row = df.iloc[i]\n",
    "        next_row = df.iloc[i + 1]\n",
    "        current_date = current_row['DateTime']\n",
    "        next_date = next_row['DateTime']\n",
    "        while current_date + timedelta(days=1) < next_date:\n",
    "            current_date += timedelta(days=1)\n",
    "            new_row = current_row.copy()\n",
    "            new_row['DateTime'] = current_date\n",
    "            new_row['year'] = current_date.year\n",
    "            new_row['month'] = current_date.month\n",
    "            new_row['day'] = current_date.day\n",
    "            new_rows.append(new_row)\n",
    "    return pd.concat([df, pd.DataFrame(new_rows)]).sort_values(by='DateTime').reset_index(drop=True)\n",
    "\n",
    "# Add missing dates\n",
    "expanded_data = add_missing_dates(data)\n",
    "\n",
    "print(expanded_data)\n",
    "\n",
    "data = expanded_data.dropna()"
   ]
  },
  {
   "cell_type": "markdown",
   "metadata": {},
   "source": [
    "Create scatterplot to show expanded data"
   ]
  },
  {
   "cell_type": "code",
   "execution_count": 6,
   "metadata": {},
   "outputs": [
    {
     "data": {
      "image/png": "[encoded data removed]",
      "text/plain": [
       "<Figure size 1000x600 with 2 Axes>"
      ]
     },
     "metadata": {},
     "output_type": "display_data"
    }
   ],
   "source": [
    "import matplotlib.pyplot as plt\n",
    "\n",
    "plt.figure(figsize=(10,6))\n",
    "scatter = plt.scatter(data['day'], data['Final price'], c=data['price_equal'], cmap='viridis', label='Sale')\n",
    "\n",
    "cbar = plt.colorbar(scatter)\n",
    "cbar.set_label('Sale (1=Yes, 0=No)')\n",
    "\n",
    "plt.xlabel('DateTime')\n",
    "plt.ylabel('Final Price')\n",
    "plt.title('Final Price Over Time with Sale Indicator')\n",
    "\n",
    "plt.show()"
   ]
  },
  {
   "cell_type": "code",
   "execution_count": 7,
   "metadata": {},
   "outputs": [
    {
     "data": {
      "image/png": "[encoded data removed]",
      "text/plain": [
       "<Figure size 1000x600 with 1 Axes>"
      ]
     },
     "metadata": {},
     "output_type": "display_data"
    }
   ],
   "source": [
    "import matplotlib.pyplot as plt\n",
    "\n",
    "sale_counts = data[data['price_equal'] == 1].groupby('month').size()\n",
    "\n",
    "plt.figure(figsize=(10, 6))\n",
    "sale_counts.plot(kind='bar', color='skyblue')\n",
    "\n",
    "plt.xlabel('DateTime')\n",
    "plt.ylabel('Count of Sales')\n",
    "plt.title('Count of Sales Over Time')\n",
    "\n",
    "plt.show()"
   ]
  },
  {
   "cell_type": "markdown",
   "metadata": {},
   "source": [
    "Create feature and label sets"
   ]
  },
  {
   "cell_type": "code",
   "execution_count": 8,
   "metadata": {},
   "outputs": [
    {
     "data": {
      "text/html": [
       "<div>\n",
       "<style scoped>\n",
       "    .dataframe tbody tr th:only-of-type {\n",
       "        vertical-align: middle;\n",
       "    }\n",
       "\n",
       "    .dataframe tbody tr th {\n",
       "        vertical-align: top;\n",
       "    }\n",
       "\n",
       "    .dataframe thead th {\n",
       "        text-align: right;\n",
       "    }\n",
       "</style>\n",
       "<table border=\"1\" class=\"dataframe\">\n",
       "  <thead>\n",
       "    <tr style=\"text-align: right;\">\n",
       "      <th></th>\n",
       "      <th>month</th>\n",
       "      <th>day</th>\n",
       "    </tr>\n",
       "  </thead>\n",
       "  <tbody>\n",
       "    <tr>\n",
       "      <th>0</th>\n",
       "      <td>9</td>\n",
       "      <td>28</td>\n",
       "    </tr>\n",
       "    <tr>\n",
       "      <th>1</th>\n",
       "      <td>9</td>\n",
       "      <td>29</td>\n",
       "    </tr>\n",
       "    <tr>\n",
       "      <th>2</th>\n",
       "      <td>9</td>\n",
       "      <td>30</td>\n",
       "    </tr>\n",
       "    <tr>\n",
       "      <th>3</th>\n",
       "      <td>10</td>\n",
       "      <td>1</td>\n",
       "    </tr>\n",
       "    <tr>\n",
       "      <th>4</th>\n",
       "      <td>10</td>\n",
       "      <td>2</td>\n",
       "    </tr>\n",
       "  </tbody>\n",
       "</table>\n",
       "</div>"
      ],
      "text/plain": [
       "   month  day\n",
       "0      9   28\n",
       "1      9   29\n",
       "2      9   30\n",
       "3     10    1\n",
       "4     10    2"
      ]
     },
     "execution_count": 8,
     "metadata": {},
     "output_type": "execute_result"
    }
   ],
   "source": [
    "cleaned_data = data.drop(\"DateTime\", axis=1)\n",
    "\n",
    "features = cleaned_data.drop(['Final price', 'Historical low', 'price_equal', 'year'], axis=1)\n",
    "\n",
    "label = cleaned_data['price_equal']\n",
    "\n",
    "features.head()\n"
   ]
  },
  {
   "cell_type": "markdown",
   "metadata": {},
   "source": [
    "#### Grid-search Decision Tree Classifier (optimized params)\n",
    "\n",
    "Testing grid search cross validation tree to see if accuracy can be improved by adjusting parameters"
   ]
  },
  {
   "cell_type": "code",
   "execution_count": 9,
   "metadata": {},
   "outputs": [
    {
     "name": "stdout",
     "output_type": "stream",
     "text": [
      "[[759  65]\n",
      " [183  96]]\n",
      "Accuracy of Decision Tree:  0.7751501439736733\n"
     ]
    }
   ],
   "source": [
    "from sklearn.model_selection import train_test_split\n",
    "from sklearn.tree import DecisionTreeClassifier\n",
    "from sklearn.model_selection import GridSearchCV\n",
    "from sklearn.metrics import confusion_matrix\n",
    "from sklearn.model_selection import cross_val_predict\n",
    "from sklearn.naive_bayes import GaussianNB\n",
    "from sklearn.model_selection import cross_val_score\n",
    "\n",
    "decision_tree = DecisionTreeClassifier(criterion='gini')\n",
    "param_grid = {'max_depth': [5,10,15], 'min_samples_leaf': [5,10,15], 'max_features': [5,10,15]}\n",
    "grid_search_DT = GridSearchCV(decision_tree, param_grid, scoring='accuracy')\n",
    "nested_cv = cross_val_score(grid_search_DT, features, label)\n",
    "prediction = cross_val_predict(grid_search_DT, features, label)\n",
    "print(confusion_matrix(label, prediction))\n",
    "\n",
    "accuracy = nested_cv.sum() / len(nested_cv)\n",
    "\n",
    "print('Accuracy of Decision Tree: ', accuracy)"
   ]
  },
  {
   "cell_type": "code",
   "execution_count": 17,
   "metadata": {},
   "outputs": [
    {
     "name": "stdout",
     "output_type": "stream",
     "text": [
      "Best parameters: {'criterion': 'gini', 'max_depth': 10, 'max_features': None, 'min_samples_leaf': 5, 'min_samples_split': 2}\n",
      "Accuracy: 0.8099547511312217\n",
      "[[153  21]\n",
      " [ 21  26]]\n"
     ]
    },
    {
     "name": "stderr",
     "output_type": "stream",
     "text": [
      "c:\\ProgramData\\anaconda3\\Lib\\site-packages\\sklearn\\model_selection\\_validation.py:425: FitFailedWarning: \n",
      "480 fits failed out of a total of 1920.\n",
      "The score on these train-test partitions for these parameters will be set to nan.\n",
      "If these failures are not expected, you can try to debug them by setting error_score='raise'.\n",
      "\n",
      "Below are more details about the failures:\n",
      "--------------------------------------------------------------------------------\n",
      "480 fits failed with the following error:\n",
      "Traceback (most recent call last):\n",
      "  File \"c:\\ProgramData\\anaconda3\\Lib\\site-packages\\sklearn\\model_selection\\_validation.py\", line 732, in _fit_and_score\n",
      "    estimator.fit(X_train, y_train, **fit_params)\n",
      "  File \"c:\\ProgramData\\anaconda3\\Lib\\site-packages\\sklearn\\base.py\", line 1144, in wrapper\n",
      "    estimator._validate_params()\n",
      "  File \"c:\\ProgramData\\anaconda3\\Lib\\site-packages\\sklearn\\base.py\", line 637, in _validate_params\n",
      "    validate_parameter_constraints(\n",
      "  File \"c:\\ProgramData\\anaconda3\\Lib\\site-packages\\sklearn\\utils\\_param_validation.py\", line 95, in validate_parameter_constraints\n",
      "    raise InvalidParameterError(\n",
      "sklearn.utils._param_validation.InvalidParameterError: The 'max_features' parameter of DecisionTreeClassifier must be an int in the range [1, inf), a float in the range (0.0, 1.0], a str among {'log2', 'sqrt'} or None. Got 'auto' instead.\n",
      "\n",
      "  warnings.warn(some_fits_failed_message, FitFailedWarning)\n",
      "c:\\ProgramData\\anaconda3\\Lib\\site-packages\\sklearn\\model_selection\\_search.py:976: UserWarning: One or more of the test scores are non-finite: [0.78455958 0.78455958 0.78568952 0.78455958 0.78455958 0.78568952\n",
      " 0.78455316 0.78455316 0.78455316 0.78458526 0.78458526 0.78458526\n",
      "        nan        nan        nan        nan        nan        nan\n",
      "        nan        nan        nan        nan        nan        nan\n",
      " 0.77663071 0.76190293 0.7902093  0.78115691 0.77890986 0.77777992\n",
      " 0.78229327 0.77552003 0.78004622 0.78118259 0.76077298 0.76866975\n",
      " 0.78228043 0.76646122 0.7834168  0.78116333 0.7732152  0.77434515\n",
      " 0.77667565 0.77092964 0.77431947 0.76189009 0.77208526 0.78678737\n",
      " 0.77666281 0.78118259 0.79588469 0.78684515 0.78797509 0.79928737\n",
      " 0.80154083 0.80154083 0.80154083 0.78796225 0.78796225 0.78796225\n",
      "        nan        nan        nan        nan        nan        nan\n",
      "        nan        nan        nan        nan        nan        nan\n",
      " 0.76986389 0.77550719 0.76872753 0.76646122 0.76307139 0.77547509\n",
      " 0.75507191 0.76869543 0.77662429 0.76529918 0.78575372 0.77550077\n",
      " 0.7596944  0.75850668 0.79587185 0.76758475 0.75964304 0.78683231\n",
      " 0.76983821 0.77434515 0.79022856 0.7721302  0.78009759 0.76864407\n",
      " 0.76421418 0.77213662 0.79136492 0.77892912 0.78005907 0.7925077\n",
      " 0.79928095 0.79928095 0.79928095 0.78796225 0.78796225 0.78796225\n",
      "        nan        nan        nan        nan        nan        nan\n",
      "        nan        nan        nan        nan        nan        nan\n",
      " 0.76082435 0.76646764 0.77776066 0.76755907 0.76754622 0.7471944\n",
      " 0.76417565 0.77998844 0.77322162 0.77436441 0.77772856 0.7471623\n",
      " 0.75289548 0.76192219 0.77663071 0.77099384 0.76648048 0.75624679\n",
      " 0.77770288 0.78454032 0.7800398  0.77097458 0.78904083 0.7902735\n",
      " 0.76421418 0.77100026 0.79136492 0.77892912 0.78005907 0.7925077\n",
      " 0.79928095 0.79928095 0.79928095 0.78796225 0.78796225 0.78796225\n",
      "        nan        nan        nan        nan        nan        nan\n",
      "        nan        nan        nan        nan        nan        nan\n",
      " 0.74836287 0.74720082 0.76643554 0.76418207 0.76074088 0.78345532\n",
      " 0.7596302  0.75853236 0.77092964 0.77774782 0.79020288 0.78685157\n",
      " 0.7585452  0.76646122 0.78230611 0.77101952 0.7608115  0.78000128\n",
      " 0.76528634 0.77556497 0.79134566 0.78118901 0.76985747 0.77322804\n",
      " 0.78796867 0.78796867 0.78796867 0.78796867 0.78796867 0.78796867\n",
      " 0.78683231 0.78683231 0.78683231 0.7834168  0.7834168  0.7834168\n",
      "        nan        nan        nan        nan        nan        nan\n",
      "        nan        nan        nan        nan        nan        nan\n",
      " 0.77663713 0.76981895 0.77776708 0.76644838 0.77438367 0.77662429\n",
      " 0.76874037 0.76759759 0.77662429 0.7800398  0.77663713 0.77095532\n",
      " 0.7664227  0.76420134 0.78228685 0.78347458 0.78906651 0.77887134\n",
      " 0.78116333 0.78007833 0.77661787 0.75627889 0.77092964 0.7720981\n",
      " 0.77439009 0.77779276 0.7902414  0.7800398  0.78230611 0.79702748\n",
      " 0.79133282 0.79133282 0.79133282 0.78225475 0.78225475 0.78225475\n",
      "        nan        nan        nan        nan        nan        nan\n",
      "        nan        nan        nan        nan        nan        nan\n",
      " 0.76983821 0.76761043 0.75615049 0.77548151 0.7641885  0.77440935\n",
      " 0.76756549 0.76183873 0.78452748 0.78909861 0.78341037 0.77433873\n",
      " 0.77096816 0.7720981  0.77209168 0.77096174 0.7675398  0.76757191\n",
      " 0.75959168 0.77322804 0.76305213 0.77433231 0.76299435 0.75276066\n",
      " 0.76421418 0.76874679 0.78798793 0.77439651 0.77666281 0.79252054\n",
      " 0.79134566 0.79134566 0.79134566 0.78225475 0.78225475 0.78225475\n",
      "        nan        nan        nan        nan        nan        nan\n",
      "        nan        nan        nan        nan        nan        nan\n",
      " 0.75516821 0.7664869  0.76872111 0.76300719 0.77437725 0.75508475\n",
      " 0.79702748 0.78458526 0.77660503 0.79134566 0.75622111 0.77542373\n",
      " 0.75514253 0.75287622 0.76528634 0.75735105 0.75737673 0.77657935\n",
      " 0.75392912 0.78796225 0.75398048 0.7788906  0.76866975 0.76307781\n",
      " 0.76421418 0.76761043 0.78798793 0.77439651 0.77666281 0.79252054\n",
      " 0.79134566 0.79134566 0.79134566 0.78225475 0.78225475 0.78225475\n",
      "        nan        nan        nan        nan        nan        nan\n",
      "        nan        nan        nan        nan        nan        nan\n",
      " 0.75855804 0.75740241 0.76984463 0.76533128 0.76305213 0.76188367\n",
      " 0.78227401 0.7970339  0.7777414  0.76755907 0.7663906  0.75281844\n",
      " 0.75514895 0.7539869  0.7539869  0.76192219 0.76533128 0.76642912\n",
      " 0.78680663 0.79246276 0.76303287 0.785651   0.76870185 0.77768362]\n",
      "  warnings.warn(\n"
     ]
    }
   ],
   "source": [
    "# Split the data into training and testing sets\n",
    "X_train, X_test, y_train, y_test = train_test_split(features, label, test_size=0.2, random_state=42)\n",
    "\n",
    "# Initialize the Decision Tree Classifier\n",
    "decision_tree = DecisionTreeClassifier()\n",
    "\n",
    "# Define the parameter grid\n",
    "param_grid = {\n",
    "    'criterion': ['gini', 'entropy'],\n",
    "    'max_depth': [5, 10, 15, None],\n",
    "    'min_samples_split': [2, 5, 10],\n",
    "    'min_samples_leaf': [1, 2, 5, 10],\n",
    "    'max_features': [None, 'auto', 'sqrt', 'log2']\n",
    "}\n",
    "\n",
    "# Initialize GridSearchCV\n",
    "grid_search = GridSearchCV(estimator=decision_tree, param_grid=param_grid, scoring='accuracy', cv=5)\n",
    "\n",
    "# Fit the model\n",
    "grid_search.fit(X_train, y_train)\n",
    "\n",
    "# Get the best parameters\n",
    "best_params = grid_search.best_params_\n",
    "print(f'Best parameters: {best_params}')\n",
    "\n",
    "# Evaluate the model with the best parameters\n",
    "best_model = grid_search.best_estimator_\n",
    "y_pred = best_model.predict(X_test)\n",
    "accuracy = accuracy_score(y_test, y_pred)\n",
    "print(f'Accuracy: {accuracy}')\n",
    "\n",
    "# Print the confusion matrix\n",
    "print(confusion_matrix(y_test, y_pred))"
   ]
  },
  {
   "cell_type": "markdown",
   "metadata": {},
   "source": [
    "Create optimized decision tree classifier with best params"
   ]
  },
  {
   "cell_type": "code",
   "execution_count": 23,
   "metadata": {},
   "outputs": [
    {
     "name": "stdout",
     "output_type": "stream",
     "text": [
      "0.8099547511312217\n"
     ]
    }
   ],
   "source": [
    "from sklearn.metrics import accuracy_score\n",
    "from sklearn.naive_bayes import GaussianNB\n",
    "\n",
    "X_train, X_test, y_train, y_test = train_test_split(features, label, test_size=0.2, random_state=42)\n",
    "\n",
    "optimal_clf = DecisionTreeClassifier(criterion=\"gini\", max_depth=10, min_samples_leaf=5, min_samples_split=2)\n",
    "\n",
    "optimal_clf.fit(X_train, y_train)\n",
    "\n",
    "y_pred = optimal_clf.predict(X_test)\n",
    "\n",
    "accuracy = accuracy_score(y_test, y_pred)\n",
    "\n",
    "print(accuracy)"
   ]
  },
  {
   "cell_type": "markdown",
   "metadata": {},
   "source": [
    "Predict whether game will be on sale given a single date\n",
    "\n",
    "0 - not on sale (final price does not match lowest historical price)\n",
    "\n",
    "1 - on sale (final price matches lowest historical price)"
   ]
  },
  {
   "cell_type": "code",
   "execution_count": 24,
   "metadata": {},
   "outputs": [
    {
     "name": "stdout",
     "output_type": "stream",
     "text": [
      "[0]\n"
     ]
    }
   ],
   "source": [
    "new_data = pd.DataFrame({'month': [9], 'day': [19]})\n",
    "\n",
    "pred_outcome = optimal_clf.predict(new_data)\n",
    "\n",
    "print(pred_outcome)"
   ]
  },
  {
   "cell_type": "markdown",
   "metadata": {},
   "source": [
    "Predict whether there will be a sale for a range of future dates"
   ]
  },
  {
   "cell_type": "code",
   "execution_count": 26,
   "metadata": {},
   "outputs": [
    {
     "name": "stdout",
     "output_type": "stream",
     "text": [
      "9   21   [1]\n",
      "9   22   [1]\n",
      "9   23   [1]\n",
      "9   24   [1]\n",
      "9   30   [1]\n",
      "10   27   [1]\n",
      "10   28   [1]\n",
      "10   29   [1]\n",
      "10   30   [1]\n",
      "11   1   [1]\n",
      "11   2   [1]\n",
      "11   3   [1]\n",
      "11   22   [1]\n",
      "11   23   [1]\n",
      "11   24   [1]\n",
      "11   25   [1]\n",
      "11   26   [1]\n",
      "11   27   [1]\n",
      "11   28   [1]\n",
      "12   22   [1]\n",
      "12   23   [1]\n",
      "12   24   [1]\n",
      "12   25   [1]\n",
      "12   26   [1]\n",
      "12   27   [1]\n",
      "12   28   [1]\n",
      "12   29   [1]\n",
      "12   30   [1]\n"
     ]
    }
   ],
   "source": [
    "for month in range(9,13):\n",
    "    \n",
    "    for day in range(1, 31):\n",
    "        new_data = pd.DataFrame({'month': [month], 'day': [day]})\n",
    "\n",
    "        pred_outcome = optimal_clf.predict(new_data)\n",
    "\n",
    "        if (pred_outcome == [1]):\n",
    "            print(month, ' ', day ,' ' , pred_outcome)"
   ]
  },
  {
   "cell_type": "markdown",
   "metadata": {},
   "source": [
    "#### Basic Decision Tree Classifier (without optimized params)\n",
    "\n",
    "Creating basic Decision Tree Classifier for the features and label datasets"
   ]
  },
  {
   "cell_type": "code",
   "execution_count": 10,
   "metadata": {},
   "outputs": [
    {
     "name": "stdout",
     "output_type": "stream",
     "text": [
      "0.7873303167420814\n"
     ]
    }
   ],
   "source": [
    "from sklearn.metrics import accuracy_score\n",
    "from sklearn.naive_bayes import GaussianNB\n",
    "\n",
    "X_train, X_test, y_train, y_test = train_test_split(features, label, test_size=0.2, random_state=42)\n",
    "\n",
    "clf = DecisionTreeClassifier()\n",
    "\n",
    "clf.fit(X_train, y_train)\n",
    "\n",
    "y_pred = clf.predict(X_test)\n",
    "\n",
    "accuracy = accuracy_score(y_test, y_pred)\n",
    "\n",
    "print(accuracy)"
   ]
  },
  {
   "cell_type": "markdown",
   "metadata": {},
   "source": [
    "Predict whether game will be on sale given a single date\n",
    "\n",
    "0 - not on sale (final price does not match lowest historical price)\n",
    "\n",
    "1 - on sale (final price matches lowest historical price)"
   ]
  },
  {
   "cell_type": "code",
   "execution_count": 11,
   "metadata": {},
   "outputs": [
    {
     "name": "stdout",
     "output_type": "stream",
     "text": [
      "[1]\n"
     ]
    }
   ],
   "source": [
    "new_data = pd.DataFrame({'month': [9], 'day': [19]})\n",
    "\n",
    "pred_outcome = clf.predict(new_data)\n",
    "\n",
    "print(pred_outcome)"
   ]
  },
  {
   "cell_type": "markdown",
   "metadata": {},
   "source": [
    "Checks each date in a given month to see if game will be on sale"
   ]
  },
  {
   "cell_type": "code",
   "execution_count": 12,
   "metadata": {},
   "outputs": [
    {
     "name": "stdout",
     "output_type": "stream",
     "text": [
      "1   [0]\n",
      "2   [0]\n",
      "3   [0]\n",
      "4   [0]\n",
      "5   [0]\n",
      "6   [0]\n",
      "7   [0]\n",
      "8   [0]\n",
      "9   [0]\n",
      "10   [0]\n",
      "11   [0]\n",
      "12   [0]\n",
      "13   [0]\n",
      "14   [0]\n",
      "15   [0]\n",
      "16   [0]\n",
      "17   [0]\n",
      "18   [0]\n",
      "19   [1]\n",
      "20   [1]\n",
      "21   [1]\n",
      "22   [1]\n",
      "23   [1]\n",
      "24   [1]\n",
      "25   [0]\n",
      "26   [0]\n",
      "27   [0]\n",
      "28   [0]\n",
      "29   [0]\n"
     ]
    }
   ],
   "source": [
    "for x in range(1,30):\n",
    "    new_data = pd.DataFrame({ 'month': [9], 'day': [x]})\n",
    "\n",
    "    pred_outcome = clf.predict(new_data)\n",
    "\n",
    "    print(x ,' ' , pred_outcome)"
   ]
  },
  {
   "cell_type": "markdown",
   "metadata": {},
   "source": [
    "Predict whether there will be a sale for a range of future dates"
   ]
  },
  {
   "cell_type": "code",
   "execution_count": 13,
   "metadata": {},
   "outputs": [
    {
     "name": "stdout",
     "output_type": "stream",
     "text": [
      "9   1   [0]\n",
      "9   2   [0]\n",
      "9   3   [0]\n",
      "9   4   [0]\n",
      "9   5   [0]\n",
      "9   6   [0]\n",
      "9   7   [0]\n",
      "9   8   [0]\n",
      "9   9   [0]\n",
      "9   10   [0]\n",
      "9   11   [0]\n",
      "9   12   [0]\n",
      "9   13   [0]\n",
      "9   14   [0]\n",
      "9   15   [0]\n",
      "9   16   [0]\n",
      "9   17   [0]\n",
      "9   18   [0]\n",
      "9   19   [1]\n",
      "9   20   [1]\n",
      "9   21   [1]\n",
      "9   22   [1]\n",
      "9   23   [1]\n",
      "9   24   [1]\n",
      "9   25   [0]\n",
      "9   26   [0]\n",
      "9   27   [0]\n",
      "9   28   [0]\n",
      "9   29   [0]\n",
      "9   30   [1]\n",
      "10   1   [0]\n",
      "10   2   [0]\n",
      "10   3   [0]\n",
      "10   4   [0]\n",
      "10   5   [0]\n",
      "10   6   [0]\n",
      "10   7   [0]\n",
      "10   8   [0]\n",
      "10   9   [0]\n",
      "10   10   [0]\n",
      "10   11   [0]\n",
      "10   12   [0]\n",
      "10   13   [0]\n",
      "10   14   [0]\n",
      "10   15   [0]\n",
      "10   16   [0]\n",
      "10   17   [0]\n",
      "10   18   [0]\n",
      "10   19   [0]\n",
      "10   20   [0]\n",
      "10   21   [0]\n",
      "10   22   [0]\n",
      "10   23   [0]\n",
      "10   24   [0]\n",
      "10   25   [0]\n",
      "10   26   [0]\n",
      "10   27   [0]\n",
      "10   28   [0]\n",
      "10   29   [1]\n",
      "10   30   [1]\n",
      "11   1   [1]\n",
      "11   2   [0]\n",
      "11   3   [1]\n",
      "11   4   [0]\n",
      "11   5   [0]\n",
      "11   6   [0]\n",
      "11   7   [0]\n",
      "11   8   [0]\n",
      "11   9   [0]\n",
      "11   10   [0]\n",
      "11   11   [0]\n",
      "11   12   [0]\n",
      "11   13   [0]\n",
      "11   14   [0]\n",
      "11   15   [0]\n",
      "11   16   [0]\n",
      "11   17   [0]\n",
      "11   18   [0]\n",
      "11   19   [0]\n",
      "11   20   [0]\n",
      "11   21   [0]\n",
      "11   22   [1]\n",
      "11   23   [1]\n",
      "11   24   [1]\n",
      "11   25   [1]\n",
      "11   26   [1]\n",
      "11   27   [1]\n",
      "11   28   [1]\n",
      "11   29   [0]\n",
      "11   30   [0]\n",
      "12   1   [0]\n",
      "12   2   [0]\n",
      "12   3   [0]\n",
      "12   4   [0]\n",
      "12   5   [0]\n",
      "12   6   [0]\n",
      "12   7   [0]\n",
      "12   8   [0]\n",
      "12   9   [0]\n",
      "12   10   [0]\n",
      "12   11   [0]\n",
      "12   12   [0]\n",
      "12   13   [0]\n",
      "12   14   [0]\n",
      "12   15   [0]\n",
      "12   16   [0]\n",
      "12   17   [0]\n",
      "12   18   [0]\n",
      "12   19   [0]\n",
      "12   20   [0]\n",
      "12   21   [0]\n",
      "12   22   [1]\n",
      "12   23   [1]\n",
      "12   24   [1]\n",
      "12   25   [1]\n",
      "12   26   [1]\n",
      "12   27   [1]\n",
      "12   28   [1]\n",
      "12   29   [1]\n",
      "12   30   [1]\n"
     ]
    }
   ],
   "source": [
    "for month in range(9,13):\n",
    "    \n",
    "    for day in range(1, 31):\n",
    "        new_data = pd.DataFrame({'month': [month], 'day': [day]})\n",
    "\n",
    "        pred_outcome = clf.predict(new_data)\n",
    "\n",
    "        #if (pred_outcome == [1]):\n",
    "        print(month, ' ', day ,' ' , pred_outcome)"
   ]
  },
  {
   "cell_type": "markdown",
   "metadata": {},
   "source": [
    "#### Basic Neural Net model\n",
    "\n",
    "Test using a neural network model to see if accuracy improves and how it changes what predicted dates sales occur on"
   ]
  },
  {
   "cell_type": "code",
   "execution_count": 14,
   "metadata": {},
   "outputs": [
    {
     "name": "stdout",
     "output_type": "stream",
     "text": [
      "Accuracy: 0.8506787330316742\n"
     ]
    }
   ],
   "source": [
    "import pandas as pd\n",
    "from sklearn.model_selection import train_test_split\n",
    "from sklearn.preprocessing import StandardScaler\n",
    "from sklearn.neural_network import MLPClassifier\n",
    "from sklearn.metrics import accuracy_score\n",
    "\n",
    "\n",
    "\n",
    "# Features and labels\n",
    "X = features\n",
    "y = label\n",
    "\n",
    "# Split the data into training and testing sets\n",
    "X_train, X_test, y_train, y_test = train_test_split(X, y, test_size=0.2, random_state=42)\n",
    "\n",
    "# Standardize the features\n",
    "scaler = StandardScaler()\n",
    "X_train = scaler.fit_transform(X_train)\n",
    "X_test = scaler.transform(X_test)\n",
    "\n",
    "# Build the neural network model\n",
    "mlp = MLPClassifier(hidden_layer_sizes=(10, 5), max_iter=1000, random_state=42)\n",
    "\n",
    "# Train the model\n",
    "mlp.fit(X_train, y_train)\n",
    "\n",
    "# Make predictions\n",
    "y_pred = mlp.predict(X_test)\n",
    "\n",
    "# Evaluate the model\n",
    "accuracy = accuracy_score(y_test, y_pred)\n",
    "print(f'Accuracy: {accuracy}')"
   ]
  },
  {
   "cell_type": "markdown",
   "metadata": {},
   "source": [
    "Predict whether there will be a sale on one future date"
   ]
  },
  {
   "cell_type": "code",
   "execution_count": 15,
   "metadata": {},
   "outputs": [
    {
     "name": "stdout",
     "output_type": "stream",
     "text": [
      "Predicted outcome for new data: 1\n"
     ]
    }
   ],
   "source": [
    "# Predict the outcome for a new datapoint\n",
    "new_data = pd.DataFrame({'month': [12], 'day': [29]})\n",
    "new_data = scaler.transform(new_data)\n",
    "predicted_outcome = mlp.predict(new_data)\n",
    "print(f'Predicted outcome for new data: {predicted_outcome[0]}')\n"
   ]
  },
  {
   "cell_type": "markdown",
   "metadata": {},
   "source": [
    "Predict whether there will be a sale for a range of future dates"
   ]
  },
  {
   "cell_type": "code",
   "execution_count": 16,
   "metadata": {},
   "outputs": [
    {
     "name": "stdout",
     "output_type": "stream",
     "text": [
      "10 1\n",
      "Predicted outcome for 1\n",
      "10 2\n",
      "Predicted outcome for 1\n",
      "10 3\n",
      "Predicted outcome for 1\n",
      "10 21\n",
      "Predicted outcome for 1\n",
      "10 22\n",
      "Predicted outcome for 1\n",
      "11 1\n",
      "Predicted outcome for 1\n",
      "11 21\n",
      "Predicted outcome for 1\n",
      "11 22\n",
      "Predicted outcome for 1\n",
      "11 23\n",
      "Predicted outcome for 1\n",
      "11 24\n",
      "Predicted outcome for 1\n",
      "11 25\n",
      "Predicted outcome for 1\n",
      "11 26\n",
      "Predicted outcome for 1\n",
      "11 27\n",
      "Predicted outcome for 1\n",
      "11 28\n",
      "Predicted outcome for 1\n",
      "11 29\n",
      "Predicted outcome for 1\n",
      "11 30\n",
      "Predicted outcome for 1\n",
      "12 22\n",
      "Predicted outcome for 1\n",
      "12 23\n",
      "Predicted outcome for 1\n",
      "12 24\n",
      "Predicted outcome for 1\n",
      "12 25\n",
      "Predicted outcome for 1\n",
      "12 26\n",
      "Predicted outcome for 1\n",
      "12 27\n",
      "Predicted outcome for 1\n",
      "12 28\n",
      "Predicted outcome for 1\n",
      "12 29\n",
      "Predicted outcome for 1\n",
      "12 30\n",
      "Predicted outcome for 1\n"
     ]
    }
   ],
   "source": [
    "for month in range(9,13):\n",
    "    \n",
    "    for day in range(1, 31):\n",
    "        new_data = pd.DataFrame({'month': [month], 'day': [day]})\n",
    "        new_data = scaler.transform(new_data)\n",
    "        predicted_outcome = mlp.predict(new_data)\n",
    "        if(predicted_outcome[0] == 1):\n",
    "            print(month, day)\n",
    "            print(f'Predicted outcome for {predicted_outcome[0]}')"
   ]
  }
 ],
 "metadata": {
  "kernelspec": {
   "display_name": "base",
   "language": "python",
   "name": "python3"
  },
  "language_info": {
   "codemirror_mode": {
    "name": "ipython",
    "version": 3
   },
   "file_extension": ".py",
   "mimetype": "text/x-python",
   "name": "python",
   "nbconvert_exporter": "python",
   "pygments_lexer": "ipython3",
   "version": "3.11.5"
  }
 },
 "nbformat": 4,
 "nbformat_minor": 2
}
