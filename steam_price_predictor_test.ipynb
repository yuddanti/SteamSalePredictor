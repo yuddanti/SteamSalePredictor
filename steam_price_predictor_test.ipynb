{
 "cells": [
  {
   "cell_type": "markdown",
   "metadata": {},
   "source": [
    "# Using SteamDB price history data to predict when a game will go on sale"
   ]
  },
  {
   "cell_type": "markdown",
   "metadata": {},
   "source": [
    "Import necessary packages"
   ]
  },
  {
   "cell_type": "code",
   "execution_count": 51,
   "metadata": {},
   "outputs": [],
   "source": [
    "import pandas as pd\n",
    "import numpy as np\n",
    "import sklearn as sk"
   ]
  },
  {
   "cell_type": "markdown",
   "metadata": {},
   "source": [
    "Get sample data from SteamDB\n",
    "\n",
    "Columns: Date, Final Price, Historical Low Price"
   ]
  },
  {
   "cell_type": "code",
   "execution_count": 52,
   "metadata": {},
   "outputs": [
    {
     "data": {
      "text/html": [
       "<div>\n",
       "<style scoped>\n",
       "    .dataframe tbody tr th:only-of-type {\n",
       "        vertical-align: middle;\n",
       "    }\n",
       "\n",
       "    .dataframe tbody tr th {\n",
       "        vertical-align: top;\n",
       "    }\n",
       "\n",
       "    .dataframe thead th {\n",
       "        text-align: right;\n",
       "    }\n",
       "</style>\n",
       "<table border=\"1\" class=\"dataframe\">\n",
       "  <thead>\n",
       "    <tr style=\"text-align: right;\">\n",
       "      <th></th>\n",
       "      <th>DateTime</th>\n",
       "      <th>Final price</th>\n",
       "      <th>Historical low</th>\n",
       "    </tr>\n",
       "  </thead>\n",
       "  <tbody>\n",
       "    <tr>\n",
       "      <th>0</th>\n",
       "      <td>2012-11-22 14:23:33</td>\n",
       "      <td>9.99</td>\n",
       "      <td>9.99</td>\n",
       "    </tr>\n",
       "    <tr>\n",
       "      <th>1</th>\n",
       "      <td>2012-12-03 18:26:03</td>\n",
       "      <td>4.99</td>\n",
       "      <td>4.99</td>\n",
       "    </tr>\n",
       "    <tr>\n",
       "      <th>2</th>\n",
       "      <td>2012-12-20 21:26:37</td>\n",
       "      <td>9.99</td>\n",
       "      <td>4.99</td>\n",
       "    </tr>\n",
       "    <tr>\n",
       "      <th>3</th>\n",
       "      <td>2012-12-23 19:10:22</td>\n",
       "      <td>4.99</td>\n",
       "      <td>4.99</td>\n",
       "    </tr>\n",
       "    <tr>\n",
       "      <th>4</th>\n",
       "      <td>2012-12-27 20:22:14</td>\n",
       "      <td>9.99</td>\n",
       "      <td>4.99</td>\n",
       "    </tr>\n",
       "    <tr>\n",
       "      <th>...</th>\n",
       "      <td>...</td>\n",
       "      <td>...</td>\n",
       "      <td>...</td>\n",
       "    </tr>\n",
       "    <tr>\n",
       "      <th>146</th>\n",
       "      <td>2024-05-30 17:01:18</td>\n",
       "      <td>9.99</td>\n",
       "      <td>0.99</td>\n",
       "    </tr>\n",
       "    <tr>\n",
       "      <th>147</th>\n",
       "      <td>2024-06-27 17:49:39</td>\n",
       "      <td>0.99</td>\n",
       "      <td>0.99</td>\n",
       "    </tr>\n",
       "    <tr>\n",
       "      <th>148</th>\n",
       "      <td>2024-07-11 17:26:20</td>\n",
       "      <td>9.99</td>\n",
       "      <td>0.99</td>\n",
       "    </tr>\n",
       "    <tr>\n",
       "      <th>149</th>\n",
       "      <td>2024-09-04 04:36:50</td>\n",
       "      <td>9.99</td>\n",
       "      <td>0.99</td>\n",
       "    </tr>\n",
       "    <tr>\n",
       "      <th>150</th>\n",
       "      <td>2024-09-04 04:36:50</td>\n",
       "      <td>NaN</td>\n",
       "      <td>0.99</td>\n",
       "    </tr>\n",
       "  </tbody>\n",
       "</table>\n",
       "<p>151 rows × 3 columns</p>\n",
       "</div>"
      ],
      "text/plain": [
       "                DateTime  Final price  Historical low\n",
       "0    2012-11-22 14:23:33         9.99            9.99\n",
       "1    2012-12-03 18:26:03         4.99            4.99\n",
       "2    2012-12-20 21:26:37         9.99            4.99\n",
       "3    2012-12-23 19:10:22         4.99            4.99\n",
       "4    2012-12-27 20:22:14         9.99            4.99\n",
       "..                   ...          ...             ...\n",
       "146  2024-05-30 17:01:18         9.99            0.99\n",
       "147  2024-06-27 17:49:39         0.99            0.99\n",
       "148  2024-07-11 17:26:20         9.99            0.99\n",
       "149  2024-09-04 04:36:50         9.99            0.99\n",
       "150  2024-09-04 04:36:50          NaN            0.99\n",
       "\n",
       "[151 rows x 3 columns]"
      ]
     },
     "execution_count": 52,
     "metadata": {},
     "output_type": "execute_result"
    }
   ],
   "source": [
    "data = pd.read_csv('chart2.csv')\n",
    "data"
   ]
  },
  {
   "cell_type": "markdown",
   "metadata": {},
   "source": [
    "Convert given DateTime format into separate year, month, and day columns for easier training"
   ]
  },
  {
   "cell_type": "code",
   "execution_count": 53,
   "metadata": {},
   "outputs": [
    {
     "data": {
      "text/html": [
       "<div>\n",
       "<style scoped>\n",
       "    .dataframe tbody tr th:only-of-type {\n",
       "        vertical-align: middle;\n",
       "    }\n",
       "\n",
       "    .dataframe tbody tr th {\n",
       "        vertical-align: top;\n",
       "    }\n",
       "\n",
       "    .dataframe thead th {\n",
       "        text-align: right;\n",
       "    }\n",
       "</style>\n",
       "<table border=\"1\" class=\"dataframe\">\n",
       "  <thead>\n",
       "    <tr style=\"text-align: right;\">\n",
       "      <th></th>\n",
       "      <th>DateTime</th>\n",
       "      <th>Final price</th>\n",
       "      <th>Historical low</th>\n",
       "      <th>year</th>\n",
       "      <th>month</th>\n",
       "      <th>day</th>\n",
       "    </tr>\n",
       "  </thead>\n",
       "  <tbody>\n",
       "    <tr>\n",
       "      <th>0</th>\n",
       "      <td>2012-11-22 14:23:33</td>\n",
       "      <td>9.99</td>\n",
       "      <td>9.99</td>\n",
       "      <td>2012</td>\n",
       "      <td>11</td>\n",
       "      <td>22</td>\n",
       "    </tr>\n",
       "    <tr>\n",
       "      <th>1</th>\n",
       "      <td>2012-12-03 18:26:03</td>\n",
       "      <td>4.99</td>\n",
       "      <td>4.99</td>\n",
       "      <td>2012</td>\n",
       "      <td>12</td>\n",
       "      <td>3</td>\n",
       "    </tr>\n",
       "    <tr>\n",
       "      <th>2</th>\n",
       "      <td>2012-12-20 21:26:37</td>\n",
       "      <td>9.99</td>\n",
       "      <td>4.99</td>\n",
       "      <td>2012</td>\n",
       "      <td>12</td>\n",
       "      <td>20</td>\n",
       "    </tr>\n",
       "    <tr>\n",
       "      <th>3</th>\n",
       "      <td>2012-12-23 19:10:22</td>\n",
       "      <td>4.99</td>\n",
       "      <td>4.99</td>\n",
       "      <td>2012</td>\n",
       "      <td>12</td>\n",
       "      <td>23</td>\n",
       "    </tr>\n",
       "    <tr>\n",
       "      <th>4</th>\n",
       "      <td>2012-12-27 20:22:14</td>\n",
       "      <td>9.99</td>\n",
       "      <td>4.99</td>\n",
       "      <td>2012</td>\n",
       "      <td>12</td>\n",
       "      <td>27</td>\n",
       "    </tr>\n",
       "  </tbody>\n",
       "</table>\n",
       "</div>"
      ],
      "text/plain": [
       "             DateTime  Final price  Historical low  year  month  day\n",
       "0 2012-11-22 14:23:33         9.99            9.99  2012     11   22\n",
       "1 2012-12-03 18:26:03         4.99            4.99  2012     12    3\n",
       "2 2012-12-20 21:26:37         9.99            4.99  2012     12   20\n",
       "3 2012-12-23 19:10:22         4.99            4.99  2012     12   23\n",
       "4 2012-12-27 20:22:14         9.99            4.99  2012     12   27"
      ]
     },
     "execution_count": 53,
     "metadata": {},
     "output_type": "execute_result"
    }
   ],
   "source": [
    "data['DateTime'] = pd.to_datetime(data['DateTime'])\n",
    "\n",
    "data['year'] = data['DateTime'].dt.year\n",
    "data['month'] = data['DateTime'].dt.month\n",
    "data['day'] = data['DateTime'].dt.day\n",
    "\n",
    "data.head()\n"
   ]
  },
  {
   "cell_type": "markdown",
   "metadata": {},
   "source": [
    "Create a column that says if the final price is equal to the historical low (best deal price)"
   ]
  },
  {
   "cell_type": "code",
   "execution_count": 54,
   "metadata": {},
   "outputs": [
    {
     "data": {
      "text/html": [
       "<div>\n",
       "<style scoped>\n",
       "    .dataframe tbody tr th:only-of-type {\n",
       "        vertical-align: middle;\n",
       "    }\n",
       "\n",
       "    .dataframe tbody tr th {\n",
       "        vertical-align: top;\n",
       "    }\n",
       "\n",
       "    .dataframe thead th {\n",
       "        text-align: right;\n",
       "    }\n",
       "</style>\n",
       "<table border=\"1\" class=\"dataframe\">\n",
       "  <thead>\n",
       "    <tr style=\"text-align: right;\">\n",
       "      <th></th>\n",
       "      <th>DateTime</th>\n",
       "      <th>Final price</th>\n",
       "      <th>Historical low</th>\n",
       "      <th>year</th>\n",
       "      <th>month</th>\n",
       "      <th>day</th>\n",
       "      <th>price_equal</th>\n",
       "    </tr>\n",
       "  </thead>\n",
       "  <tbody>\n",
       "    <tr>\n",
       "      <th>0</th>\n",
       "      <td>2012-11-22 14:23:33</td>\n",
       "      <td>9.99</td>\n",
       "      <td>9.99</td>\n",
       "      <td>2012</td>\n",
       "      <td>11</td>\n",
       "      <td>22</td>\n",
       "      <td>1</td>\n",
       "    </tr>\n",
       "    <tr>\n",
       "      <th>1</th>\n",
       "      <td>2012-12-03 18:26:03</td>\n",
       "      <td>4.99</td>\n",
       "      <td>4.99</td>\n",
       "      <td>2012</td>\n",
       "      <td>12</td>\n",
       "      <td>3</td>\n",
       "      <td>1</td>\n",
       "    </tr>\n",
       "    <tr>\n",
       "      <th>2</th>\n",
       "      <td>2012-12-20 21:26:37</td>\n",
       "      <td>9.99</td>\n",
       "      <td>4.99</td>\n",
       "      <td>2012</td>\n",
       "      <td>12</td>\n",
       "      <td>20</td>\n",
       "      <td>0</td>\n",
       "    </tr>\n",
       "    <tr>\n",
       "      <th>3</th>\n",
       "      <td>2012-12-23 19:10:22</td>\n",
       "      <td>4.99</td>\n",
       "      <td>4.99</td>\n",
       "      <td>2012</td>\n",
       "      <td>12</td>\n",
       "      <td>23</td>\n",
       "      <td>1</td>\n",
       "    </tr>\n",
       "    <tr>\n",
       "      <th>4</th>\n",
       "      <td>2012-12-27 20:22:14</td>\n",
       "      <td>9.99</td>\n",
       "      <td>4.99</td>\n",
       "      <td>2012</td>\n",
       "      <td>12</td>\n",
       "      <td>27</td>\n",
       "      <td>0</td>\n",
       "    </tr>\n",
       "  </tbody>\n",
       "</table>\n",
       "</div>"
      ],
      "text/plain": [
       "             DateTime  Final price  Historical low  year  month  day  \\\n",
       "0 2012-11-22 14:23:33         9.99            9.99  2012     11   22   \n",
       "1 2012-12-03 18:26:03         4.99            4.99  2012     12    3   \n",
       "2 2012-12-20 21:26:37         9.99            4.99  2012     12   20   \n",
       "3 2012-12-23 19:10:22         4.99            4.99  2012     12   23   \n",
       "4 2012-12-27 20:22:14         9.99            4.99  2012     12   27   \n",
       "\n",
       "   price_equal  \n",
       "0            1  \n",
       "1            1  \n",
       "2            0  \n",
       "3            1  \n",
       "4            0  "
      ]
     },
     "execution_count": 54,
     "metadata": {},
     "output_type": "execute_result"
    }
   ],
   "source": [
    "data['price_equal'] = np.where(data['Final price'] == data['Historical low'], 1, 0)\n",
    "\n",
    "data.head()"
   ]
  },
  {
   "cell_type": "code",
   "execution_count": 55,
   "metadata": {},
   "outputs": [
    {
     "name": "stdout",
     "output_type": "stream",
     "text": [
      "                DateTime  Final price  Historical low  year  month  day  \\\n",
      "0    2012-11-22 14:23:33         9.99            9.99  2012     11   22   \n",
      "1    2012-11-23 14:23:33         9.99            9.99  2012     11   23   \n",
      "2    2012-11-24 14:23:33         9.99            9.99  2012     11   24   \n",
      "3    2012-11-25 14:23:33         9.99            9.99  2012     11   25   \n",
      "4    2012-11-26 14:23:33         9.99            9.99  2012     11   26   \n",
      "...                  ...          ...             ...   ...    ...  ...   \n",
      "4377 2024-09-01 17:26:20         9.99            0.99  2024      9    1   \n",
      "4378 2024-09-02 17:26:20         9.99            0.99  2024      9    2   \n",
      "4379 2024-09-03 17:26:20         9.99            0.99  2024      9    3   \n",
      "4380 2024-09-04 04:36:50          NaN            0.99  2024      9    4   \n",
      "4381 2024-09-04 04:36:50         9.99            0.99  2024      9    4   \n",
      "\n",
      "      price_equal  \n",
      "0               1  \n",
      "1               1  \n",
      "2               1  \n",
      "3               1  \n",
      "4               1  \n",
      "...           ...  \n",
      "4377            0  \n",
      "4378            0  \n",
      "4379            0  \n",
      "4380            0  \n",
      "4381            0  \n",
      "\n",
      "[4382 rows x 7 columns]\n"
     ]
    }
   ],
   "source": [
    "from datetime import timedelta\n",
    "\n",
    "def add_missing_dates(df):\n",
    "    new_rows = []\n",
    "    for i in range(len(df) - 1):\n",
    "        current_row = df.iloc[i]\n",
    "        next_row = df.iloc[i + 1]\n",
    "        current_date = current_row['DateTime']\n",
    "        next_date = next_row['DateTime']\n",
    "        while current_date + timedelta(days=1) < next_date:\n",
    "            current_date += timedelta(days=1)\n",
    "            new_row = current_row.copy()\n",
    "            new_row['DateTime'] = current_date\n",
    "            new_row['year'] = current_date.year\n",
    "            new_row['month'] = current_date.month\n",
    "            new_row['day'] = current_date.day\n",
    "            new_rows.append(new_row)\n",
    "    return pd.concat([df, pd.DataFrame(new_rows)]).sort_values(by='DateTime').reset_index(drop=True)\n",
    "\n",
    "# Add missing dates\n",
    "expanded_data = add_missing_dates(data)\n",
    "\n",
    "print(expanded_data)\n",
    "\n",
    "data = expanded_data.dropna()"
   ]
  },
  {
   "cell_type": "markdown",
   "metadata": {},
   "source": [
    "Create scatterplot to show expanded data"
   ]
  },
  {
   "cell_type": "code",
   "execution_count": 56,
   "metadata": {},
   "outputs": [
    {
     "data": {
      "image/png": "[encoded data removed]",
      "text/plain": [
       "<Figure size 1000x600 with 2 Axes>"
      ]
     },
     "metadata": {},
     "output_type": "display_data"
    }
   ],
   "source": [
    "import matplotlib.pyplot as plt\n",
    "\n",
    "plt.figure(figsize=(10,6))\n",
    "scatter = plt.scatter(data['day'], data['Final price'], c=data['price_equal'], cmap='viridis', label='Sale')\n",
    "\n",
    "cbar = plt.colorbar(scatter)\n",
    "cbar.set_label('Sale (1=Yes, 0=No)')\n",
    "\n",
    "plt.xlabel('DateTime')\n",
    "plt.ylabel('Final Price')\n",
    "plt.title('Final Price Over Time with Sale Indicator')\n",
    "\n",
    "plt.show()"
   ]
  },
  {
   "cell_type": "code",
   "execution_count": 57,
   "metadata": {},
   "outputs": [
    {
     "data": {
      "image/png": "[encoded data removed]",
      "text/plain": [
       "<Figure size 1000x600 with 1 Axes>"
      ]
     },
     "metadata": {},
     "output_type": "display_data"
    }
   ],
   "source": [
    "import matplotlib.pyplot as plt\n",
    "\n",
    "sale_counts = data[data['price_equal'] == 1].groupby('month').size()\n",
    "\n",
    "plt.figure(figsize=(10, 6))\n",
    "sale_counts.plot(kind='bar', color='skyblue')\n",
    "\n",
    "plt.xlabel('DateTime')\n",
    "plt.ylabel('Count of Sales')\n",
    "plt.title('Count of Sales Over Time')\n",
    "\n",
    "plt.show()"
   ]
  },
  {
   "cell_type": "markdown",
   "metadata": {},
   "source": [
    "Create feature and label sets"
   ]
  },
  {
   "cell_type": "code",
   "execution_count": 58,
   "metadata": {},
   "outputs": [
    {
     "data": {
      "text/html": [
       "<div>\n",
       "<style scoped>\n",
       "    .dataframe tbody tr th:only-of-type {\n",
       "        vertical-align: middle;\n",
       "    }\n",
       "\n",
       "    .dataframe tbody tr th {\n",
       "        vertical-align: top;\n",
       "    }\n",
       "\n",
       "    .dataframe thead th {\n",
       "        text-align: right;\n",
       "    }\n",
       "</style>\n",
       "<table border=\"1\" class=\"dataframe\">\n",
       "  <thead>\n",
       "    <tr style=\"text-align: right;\">\n",
       "      <th></th>\n",
       "      <th>month</th>\n",
       "      <th>day</th>\n",
       "    </tr>\n",
       "  </thead>\n",
       "  <tbody>\n",
       "    <tr>\n",
       "      <th>0</th>\n",
       "      <td>11</td>\n",
       "      <td>22</td>\n",
       "    </tr>\n",
       "    <tr>\n",
       "      <th>1</th>\n",
       "      <td>11</td>\n",
       "      <td>23</td>\n",
       "    </tr>\n",
       "    <tr>\n",
       "      <th>2</th>\n",
       "      <td>11</td>\n",
       "      <td>24</td>\n",
       "    </tr>\n",
       "    <tr>\n",
       "      <th>3</th>\n",
       "      <td>11</td>\n",
       "      <td>25</td>\n",
       "    </tr>\n",
       "    <tr>\n",
       "      <th>4</th>\n",
       "      <td>11</td>\n",
       "      <td>26</td>\n",
       "    </tr>\n",
       "  </tbody>\n",
       "</table>\n",
       "</div>"
      ],
      "text/plain": [
       "   month  day\n",
       "0     11   22\n",
       "1     11   23\n",
       "2     11   24\n",
       "3     11   25\n",
       "4     11   26"
      ]
     },
     "execution_count": 58,
     "metadata": {},
     "output_type": "execute_result"
    }
   ],
   "source": [
    "cleaned_data = data.drop(\"DateTime\", axis=1)\n",
    "\n",
    "features = cleaned_data.drop(['Final price', 'Historical low', 'price_equal', 'year'], axis=1)\n",
    "\n",
    "label = cleaned_data['price_equal']\n",
    "\n",
    "features.head()\n"
   ]
  },
  {
   "cell_type": "markdown",
   "metadata": {},
   "source": [
    "#### Grid-search Decision Tree Classifier (optimized params)\n",
    "\n",
    "Testing grid search cross validation tree to see if accuracy can be improved by adjusting parameters"
   ]
  },
  {
   "cell_type": "code",
   "execution_count": 59,
   "metadata": {},
   "outputs": [
    {
     "name": "stdout",
     "output_type": "stream",
     "text": [
      "[[3748   86]\n",
      " [ 471   76]]\n",
      "Accuracy of Decision Tree:  0.8728708809088683\n"
     ]
    }
   ],
   "source": [
    "from sklearn.model_selection import train_test_split\n",
    "from sklearn.tree import DecisionTreeClassifier\n",
    "from sklearn.model_selection import GridSearchCV\n",
    "from sklearn.metrics import confusion_matrix\n",
    "from sklearn.model_selection import cross_val_predict\n",
    "from sklearn.naive_bayes import GaussianNB\n",
    "from sklearn.model_selection import cross_val_score\n",
    "\n",
    "decision_tree = DecisionTreeClassifier(criterion='gini')\n",
    "param_grid = {'max_depth': [5,10,15], 'min_samples_leaf': [5,10,15], 'max_features': [5,10,15]}\n",
    "grid_search_DT = GridSearchCV(decision_tree, param_grid, scoring='accuracy')\n",
    "nested_cv = cross_val_score(grid_search_DT, features, label)\n",
    "prediction = cross_val_predict(grid_search_DT, features, label)\n",
    "print(confusion_matrix(label, prediction))\n",
    "\n",
    "accuracy = nested_cv.sum() / len(nested_cv)\n",
    "\n",
    "print('Accuracy of Decision Tree: ', accuracy)"
   ]
  },
  {
   "cell_type": "code",
   "execution_count": 60,
   "metadata": {},
   "outputs": [
    {
     "name": "stdout",
     "output_type": "stream",
     "text": [
      "Best parameters: {'criterion': 'entropy', 'max_depth': 5, 'max_features': 'sqrt', 'min_samples_leaf': 10, 'min_samples_split': 5}\n",
      "Accuracy: 0.8722919042189282\n",
      "[[745  19]\n",
      " [ 93  20]]\n"
     ]
    },
    {
     "name": "stderr",
     "output_type": "stream",
     "text": [
      "c:\\ProgramData\\anaconda3\\Lib\\site-packages\\sklearn\\model_selection\\_validation.py:425: FitFailedWarning: \n",
      "480 fits failed out of a total of 1920.\n",
      "The score on these train-test partitions for these parameters will be set to nan.\n",
      "If these failures are not expected, you can try to debug them by setting error_score='raise'.\n",
      "\n",
      "Below are more details about the failures:\n",
      "--------------------------------------------------------------------------------\n",
      "480 fits failed with the following error:\n",
      "Traceback (most recent call last):\n",
      "  File \"c:\\ProgramData\\anaconda3\\Lib\\site-packages\\sklearn\\model_selection\\_validation.py\", line 732, in _fit_and_score\n",
      "    estimator.fit(X_train, y_train, **fit_params)\n",
      "  File \"c:\\ProgramData\\anaconda3\\Lib\\site-packages\\sklearn\\base.py\", line 1144, in wrapper\n",
      "    estimator._validate_params()\n",
      "  File \"c:\\ProgramData\\anaconda3\\Lib\\site-packages\\sklearn\\base.py\", line 637, in _validate_params\n",
      "    validate_parameter_constraints(\n",
      "  File \"c:\\ProgramData\\anaconda3\\Lib\\site-packages\\sklearn\\utils\\_param_validation.py\", line 95, in validate_parameter_constraints\n",
      "    raise InvalidParameterError(\n",
      "sklearn.utils._param_validation.InvalidParameterError: The 'max_features' parameter of DecisionTreeClassifier must be an int in the range [1, inf), a float in the range (0.0, 1.0], a str among {'log2', 'sqrt'} or None. Got 'auto' instead.\n",
      "\n",
      "  warnings.warn(some_fits_failed_message, FitFailedWarning)\n",
      "c:\\ProgramData\\anaconda3\\Lib\\site-packages\\sklearn\\model_selection\\_search.py:976: UserWarning: One or more of the test scores are non-finite: [0.8787096  0.8787096  0.8787096  0.8787096  0.8787096  0.8787096\n",
      " 0.8787096  0.8787096  0.8787096  0.88070878 0.88070878 0.88070878\n",
      "        nan        nan        nan        nan        nan        nan\n",
      "        nan        nan        nan        nan        nan        nan\n",
      " 0.87956756 0.87728307 0.87814062 0.87928184 0.87899572 0.87928225\n",
      " 0.87956756 0.87728225 0.88013695 0.88042348 0.87899694 0.87842592\n",
      " 0.87756919 0.87785368 0.87985572 0.87585653 0.87671327 0.87699939\n",
      " 0.87928184 0.87899654 0.87842592 0.87871123 0.8807096  0.88071001\n",
      " 0.86929162 0.86929162 0.86929162 0.86929162 0.86929162 0.86929162\n",
      " 0.87043448 0.87043448 0.87043448 0.87814184 0.87814184 0.87814184\n",
      "        nan        nan        nan        nan        nan        nan\n",
      "        nan        nan        nan        nan        nan        nan\n",
      " 0.86929162 0.86929162 0.86929162 0.86929162 0.86929162 0.86929162\n",
      " 0.87043448 0.86986305 0.87043448 0.87728388 0.87785694 0.87871123\n",
      " 0.86929162 0.86929162 0.86929162 0.86929162 0.86929162 0.86929162\n",
      " 0.87043448 0.87043448 0.87043448 0.87471408 0.87785612 0.88013899\n",
      " 0.86929162 0.86929162 0.86929162 0.86929162 0.86929162 0.86929162\n",
      " 0.87043448 0.87043448 0.87043448 0.87814184 0.87814184 0.87814184\n",
      "        nan        nan        nan        nan        nan        nan\n",
      "        nan        nan        nan        nan        nan        nan\n",
      " 0.86929162 0.86929162 0.86929162 0.86929162 0.86929162 0.86929162\n",
      " 0.86986305 0.86929162 0.87043448 0.87756837 0.87785449 0.87956837\n",
      " 0.86929162 0.86929162 0.86929162 0.86929162 0.86929162 0.86929162\n",
      " 0.87100591 0.87043448 0.86986305 0.87928307 0.87813939 0.87899776\n",
      " 0.86929162 0.86929162 0.86929162 0.86929162 0.86929162 0.86929162\n",
      " 0.87043448 0.87043448 0.87043448 0.87814184 0.87814184 0.87814184\n",
      "        nan        nan        nan        nan        nan        nan\n",
      "        nan        nan        nan        nan        nan        nan\n",
      " 0.86929162 0.86929162 0.86929162 0.86929162 0.86929162 0.86929162\n",
      " 0.87043448 0.87043448 0.87043448 0.87814225 0.87785449 0.87785531\n",
      " 0.86929162 0.86929162 0.86929162 0.86929162 0.86929162 0.86929162\n",
      " 0.87129122 0.87043448 0.87043448 0.87814062 0.87699857 0.87642878\n",
      " 0.87813899 0.87813899 0.87813899 0.87813899 0.87813899 0.87813899\n",
      " 0.87813899 0.87813899 0.87813899 0.88042348 0.88042348 0.88042348\n",
      "        nan        nan        nan        nan        nan        nan\n",
      "        nan        nan        nan        nan        nan        nan\n",
      " 0.87728307 0.87671204 0.87671245 0.87842388 0.87842511 0.87899572\n",
      " 0.8787096  0.87813899 0.87956633 0.88042307 0.8812794  0.88013817\n",
      " 0.87785368 0.87899817 0.87671327 0.87728307 0.87699857 0.88042225\n",
      " 0.87956756 0.87928103 0.87699857 0.88013899 0.88099491 0.87956837\n",
      " 0.86929162 0.86929162 0.86929162 0.86929162 0.86929162 0.86929162\n",
      " 0.87043448 0.87043448 0.87043448 0.87814184 0.87814184 0.87814184\n",
      "        nan        nan        nan        nan        nan        nan\n",
      "        nan        nan        nan        nan        nan        nan\n",
      " 0.86929162 0.86929162 0.86929162 0.86929162 0.86929162 0.86929162\n",
      " 0.87043448 0.87043448 0.87043448 0.87471408 0.87728633 0.87956837\n",
      " 0.86929162 0.86929162 0.86929162 0.86929162 0.86929162 0.86872101\n",
      " 0.86957693 0.87100591 0.87043448 0.87899735 0.87871245 0.87814184\n",
      " 0.86929162 0.86929162 0.86929162 0.86929162 0.86929162 0.86929162\n",
      " 0.87043448 0.87043448 0.87043448 0.87814184 0.87814184 0.87814184\n",
      "        nan        nan        nan        nan        nan        nan\n",
      "        nan        nan        nan        nan        nan        nan\n",
      " 0.86929162 0.86929162 0.86929162 0.86929162 0.86929162 0.86929162\n",
      " 0.87071979 0.87043448 0.86957693 0.8767153  0.87785653 0.87899735\n",
      " 0.86929162 0.86929162 0.86929162 0.86929162 0.86929162 0.86929162\n",
      " 0.86929162 0.87043448 0.86986305 0.87785653 0.87928388 0.87985449\n",
      " 0.86929162 0.86929162 0.86929162 0.86929162 0.86929162 0.86929162\n",
      " 0.87043448 0.87043448 0.87043448 0.87814184 0.87814184 0.87814184\n",
      "        nan        nan        nan        nan        nan        nan\n",
      "        nan        nan        nan        nan        nan        nan\n",
      " 0.86929162 0.86929162 0.86929162 0.86929162 0.86929162 0.86929162\n",
      " 0.87014836 0.86929162 0.86986305 0.87871245 0.87985327 0.87814102\n",
      " 0.86929162 0.86929162 0.86929162 0.86929162 0.86929162 0.86929162\n",
      " 0.87043448 0.87043448 0.87043448 0.87871204 0.87928347 0.87928347]\n",
      "  warnings.warn(\n"
     ]
    }
   ],
   "source": [
    "# Split the data into training and testing sets\n",
    "X_train, X_test, y_train, y_test = train_test_split(features, label, test_size=0.2, random_state=42)\n",
    "\n",
    "# Initialize the Decision Tree Classifier\n",
    "decision_tree = DecisionTreeClassifier()\n",
    "\n",
    "# Define the parameter grid\n",
    "param_grid = {\n",
    "    'criterion': ['gini', 'entropy'],\n",
    "    'max_depth': [5, 10, 15, None],\n",
    "    'min_samples_split': [2, 5, 10],\n",
    "    'min_samples_leaf': [1, 2, 5, 10],\n",
    "    'max_features': [None, 'auto', 'sqrt', 'log2']\n",
    "}\n",
    "\n",
    "# Initialize GridSearchCV\n",
    "grid_search = GridSearchCV(estimator=decision_tree, param_grid=param_grid, scoring='accuracy', cv=5)\n",
    "\n",
    "# Fit the model\n",
    "grid_search.fit(X_train, y_train)\n",
    "\n",
    "# Get the best parameters\n",
    "best_params = grid_search.best_params_\n",
    "print(f'Best parameters: {best_params}')\n",
    "\n",
    "# Evaluate the model with the best parameters\n",
    "best_model = grid_search.best_estimator_\n",
    "y_pred = best_model.predict(X_test)\n",
    "accuracy = accuracy_score(y_test, y_pred)\n",
    "print(f'Accuracy: {accuracy}')\n",
    "\n",
    "# Print the confusion matrix\n",
    "print(confusion_matrix(y_test, y_pred))"
   ]
  },
  {
   "cell_type": "markdown",
   "metadata": {},
   "source": [
    "Create optimized decision tree classifier with best params"
   ]
  },
  {
   "cell_type": "code",
   "execution_count": 61,
   "metadata": {},
   "outputs": [
    {
     "name": "stdout",
     "output_type": "stream",
     "text": [
      "0.8779931584948689\n"
     ]
    }
   ],
   "source": [
    "from sklearn.metrics import accuracy_score\n",
    "from sklearn.naive_bayes import GaussianNB\n",
    "\n",
    "X_train, X_test, y_train, y_test = train_test_split(features, label, test_size=0.2, random_state=42)\n",
    "\n",
    "optimal_clf = DecisionTreeClassifier(**best_params)\n",
    "\n",
    "optimal_clf.fit(X_train, y_train)\n",
    "\n",
    "y_pred = optimal_clf.predict(X_test)\n",
    "\n",
    "accuracy = accuracy_score(y_test, y_pred)\n",
    "\n",
    "print(accuracy)"
   ]
  },
  {
   "cell_type": "markdown",
   "metadata": {},
   "source": [
    "Predict whether game will be on sale given a single date\n",
    "\n",
    "0 - not on sale (final price does not match lowest historical price)\n",
    "\n",
    "1 - on sale (final price matches lowest historical price)"
   ]
  },
  {
   "cell_type": "code",
   "execution_count": 62,
   "metadata": {},
   "outputs": [
    {
     "name": "stdout",
     "output_type": "stream",
     "text": [
      "[0]\n"
     ]
    }
   ],
   "source": [
    "new_data = pd.DataFrame({'month': [9], 'day': [19]})\n",
    "\n",
    "pred_outcome = optimal_clf.predict(new_data)\n",
    "\n",
    "print(pred_outcome)"
   ]
  },
  {
   "cell_type": "markdown",
   "metadata": {},
   "source": [
    "Predict whether there will be a sale for a range of future dates"
   ]
  },
  {
   "cell_type": "code",
   "execution_count": 63,
   "metadata": {},
   "outputs": [
    {
     "name": "stdout",
     "output_type": "stream",
     "text": [
      "11   25   [1]\n",
      "11   26   [1]\n",
      "11   27   [1]\n",
      "11   28   [1]\n",
      "12   22   [1]\n",
      "12   23   [1]\n",
      "12   24   [1]\n",
      "12   25   [1]\n",
      "12   26   [1]\n",
      "12   27   [1]\n",
      "12   28   [1]\n",
      "12   29   [1]\n",
      "12   30   [1]\n"
     ]
    }
   ],
   "source": [
    "for month in range(9,13):\n",
    "    \n",
    "    for day in range(1, 31):\n",
    "        new_data = pd.DataFrame({'month': [month], 'day': [day]})\n",
    "\n",
    "        pred_outcome = optimal_clf.predict(new_data)\n",
    "\n",
    "        if (pred_outcome == [1]):\n",
    "            print(month, ' ', day ,' ' , pred_outcome)"
   ]
  },
  {
   "cell_type": "markdown",
   "metadata": {},
   "source": [
    "#### Basic Decision Tree Classifier (without optimized params)\n",
    "\n",
    "Creating basic Decision Tree Classifier for the features and label datasets"
   ]
  },
  {
   "cell_type": "code",
   "execution_count": 64,
   "metadata": {},
   "outputs": [
    {
     "name": "stdout",
     "output_type": "stream",
     "text": [
      "0.8734321550741163\n"
     ]
    }
   ],
   "source": [
    "from sklearn.metrics import accuracy_score\n",
    "from sklearn.naive_bayes import GaussianNB\n",
    "\n",
    "X_train, X_test, y_train, y_test = train_test_split(features, label, test_size=0.2, random_state=42)\n",
    "\n",
    "clf = DecisionTreeClassifier()\n",
    "\n",
    "clf.fit(X_train, y_train)\n",
    "\n",
    "y_pred = clf.predict(X_test)\n",
    "\n",
    "accuracy = accuracy_score(y_test, y_pred)\n",
    "\n",
    "print(accuracy)"
   ]
  },
  {
   "cell_type": "markdown",
   "metadata": {},
   "source": [
    "Predict whether game will be on sale given a single date\n",
    "\n",
    "0 - not on sale (final price does not match lowest historical price)\n",
    "\n",
    "1 - on sale (final price matches lowest historical price)"
   ]
  },
  {
   "cell_type": "code",
   "execution_count": 65,
   "metadata": {},
   "outputs": [
    {
     "name": "stdout",
     "output_type": "stream",
     "text": [
      "[0]\n"
     ]
    }
   ],
   "source": [
    "new_data = pd.DataFrame({'month': [9], 'day': [19]})\n",
    "\n",
    "pred_outcome = clf.predict(new_data)\n",
    "\n",
    "print(pred_outcome)"
   ]
  },
  {
   "cell_type": "markdown",
   "metadata": {},
   "source": [
    "Checks each date in a given month to see if game will be on sale"
   ]
  },
  {
   "cell_type": "code",
   "execution_count": 66,
   "metadata": {},
   "outputs": [
    {
     "name": "stdout",
     "output_type": "stream",
     "text": [
      "1   [0]\n",
      "2   [0]\n",
      "3   [0]\n",
      "4   [0]\n",
      "5   [0]\n",
      "6   [0]\n",
      "7   [0]\n",
      "8   [0]\n",
      "9   [0]\n",
      "10   [0]\n",
      "11   [0]\n",
      "12   [0]\n",
      "13   [0]\n",
      "14   [0]\n",
      "15   [0]\n",
      "16   [0]\n",
      "17   [0]\n",
      "18   [0]\n",
      "19   [0]\n",
      "20   [0]\n",
      "21   [0]\n",
      "22   [0]\n",
      "23   [0]\n",
      "24   [0]\n",
      "25   [0]\n",
      "26   [0]\n",
      "27   [0]\n",
      "28   [0]\n",
      "29   [0]\n"
     ]
    }
   ],
   "source": [
    "for x in range(1,30):\n",
    "    new_data = pd.DataFrame({ 'month': [9], 'day': [x]})\n",
    "\n",
    "    pred_outcome = clf.predict(new_data)\n",
    "\n",
    "    print(x ,' ' , pred_outcome)"
   ]
  },
  {
   "cell_type": "markdown",
   "metadata": {},
   "source": [
    "Predict whether there will be a sale for a range of future dates"
   ]
  },
  {
   "cell_type": "code",
   "execution_count": 67,
   "metadata": {},
   "outputs": [
    {
     "name": "stdout",
     "output_type": "stream",
     "text": [
      "9   1   [0]\n",
      "9   2   [0]\n",
      "9   3   [0]\n",
      "9   4   [0]\n",
      "9   5   [0]\n",
      "9   6   [0]\n",
      "9   7   [0]\n",
      "9   8   [0]\n",
      "9   9   [0]\n",
      "9   10   [0]\n",
      "9   11   [0]\n",
      "9   12   [0]\n",
      "9   13   [0]\n",
      "9   14   [0]\n",
      "9   15   [0]\n",
      "9   16   [0]\n",
      "9   17   [0]\n",
      "9   18   [0]\n",
      "9   19   [0]\n",
      "9   20   [0]\n",
      "9   21   [0]\n",
      "9   22   [0]\n",
      "9   23   [0]\n",
      "9   24   [0]\n",
      "9   25   [0]\n",
      "9   26   [0]\n",
      "9   27   [0]\n",
      "9   28   [0]\n",
      "9   29   [0]\n",
      "9   30   [0]\n",
      "10   1   [0]\n",
      "10   2   [0]\n",
      "10   3   [0]\n",
      "10   4   [0]\n",
      "10   5   [0]\n",
      "10   6   [0]\n",
      "10   7   [0]\n",
      "10   8   [0]\n",
      "10   9   [0]\n",
      "10   10   [0]\n",
      "10   11   [0]\n",
      "10   12   [0]\n",
      "10   13   [0]\n",
      "10   14   [0]\n",
      "10   15   [0]\n",
      "10   16   [0]\n",
      "10   17   [0]\n",
      "10   18   [0]\n",
      "10   19   [0]\n",
      "10   20   [0]\n",
      "10   21   [0]\n",
      "10   22   [0]\n",
      "10   23   [0]\n",
      "10   24   [0]\n",
      "10   25   [0]\n",
      "10   26   [0]\n",
      "10   27   [0]\n",
      "10   28   [0]\n",
      "10   29   [0]\n",
      "10   30   [0]\n",
      "11   1   [0]\n",
      "11   2   [0]\n",
      "11   3   [0]\n",
      "11   4   [0]\n",
      "11   5   [0]\n",
      "11   6   [0]\n",
      "11   7   [0]\n",
      "11   8   [0]\n",
      "11   9   [0]\n",
      "11   10   [0]\n",
      "11   11   [0]\n",
      "11   12   [0]\n",
      "11   13   [0]\n",
      "11   14   [0]\n",
      "11   15   [0]\n",
      "11   16   [0]\n",
      "11   17   [0]\n",
      "11   18   [0]\n",
      "11   19   [0]\n",
      "11   20   [0]\n",
      "11   21   [0]\n",
      "11   22   [0]\n",
      "11   23   [0]\n",
      "11   24   [0]\n",
      "11   25   [1]\n",
      "11   26   [1]\n",
      "11   27   [1]\n",
      "11   28   [0]\n",
      "11   29   [0]\n",
      "11   30   [0]\n",
      "12   1   [0]\n",
      "12   2   [0]\n",
      "12   3   [0]\n",
      "12   4   [0]\n",
      "12   5   [0]\n",
      "12   6   [0]\n",
      "12   7   [0]\n",
      "12   8   [0]\n",
      "12   9   [0]\n",
      "12   10   [0]\n",
      "12   11   [0]\n",
      "12   12   [0]\n",
      "12   13   [0]\n",
      "12   14   [0]\n",
      "12   15   [0]\n",
      "12   16   [0]\n",
      "12   17   [0]\n",
      "12   18   [0]\n",
      "12   19   [0]\n",
      "12   20   [0]\n",
      "12   21   [0]\n",
      "12   22   [1]\n",
      "12   23   [1]\n",
      "12   24   [1]\n",
      "12   25   [1]\n",
      "12   26   [1]\n",
      "12   27   [1]\n",
      "12   28   [1]\n",
      "12   29   [1]\n",
      "12   30   [1]\n"
     ]
    }
   ],
   "source": [
    "for month in range(9,13):\n",
    "    \n",
    "    for day in range(1, 31):\n",
    "        new_data = pd.DataFrame({'month': [month], 'day': [day]})\n",
    "\n",
    "        pred_outcome = clf.predict(new_data)\n",
    "\n",
    "        #if (pred_outcome == [1]):\n",
    "        print(month, ' ', day ,' ' , pred_outcome)"
   ]
  },
  {
   "cell_type": "markdown",
   "metadata": {},
   "source": [
    "#### Basic Neural Net model\n",
    "\n",
    "Test using a neural network model to see if accuracy improves and how it changes what predicted dates sales occur on"
   ]
  },
  {
   "cell_type": "code",
   "execution_count": 68,
   "metadata": {},
   "outputs": [
    {
     "name": "stdout",
     "output_type": "stream",
     "text": [
      "Accuracy: 0.8768529076396807\n"
     ]
    }
   ],
   "source": [
    "import pandas as pd\n",
    "from sklearn.model_selection import train_test_split\n",
    "from sklearn.preprocessing import StandardScaler\n",
    "from sklearn.neural_network import MLPClassifier\n",
    "from sklearn.metrics import accuracy_score\n",
    "\n",
    "\n",
    "\n",
    "# Features and labels\n",
    "X = features\n",
    "y = label\n",
    "\n",
    "# Split the data into training and testing sets\n",
    "X_train, X_test, y_train, y_test = train_test_split(X, y, test_size=0.2, random_state=42)\n",
    "\n",
    "# Standardize the features\n",
    "scaler = StandardScaler()\n",
    "X_train = scaler.fit_transform(X_train)\n",
    "X_test = scaler.transform(X_test)\n",
    "\n",
    "# Build the neural network model\n",
    "mlp = MLPClassifier(hidden_layer_sizes=(10, 5), max_iter=1000, random_state=42)\n",
    "\n",
    "# Train the model\n",
    "mlp.fit(X_train, y_train)\n",
    "\n",
    "# Make predictions\n",
    "y_pred = mlp.predict(X_test)\n",
    "\n",
    "# Evaluate the model\n",
    "accuracy = accuracy_score(y_test, y_pred)\n",
    "print(f'Accuracy: {accuracy}')"
   ]
  },
  {
   "cell_type": "markdown",
   "metadata": {},
   "source": [
    "Predict whether there will be a sale on one future date"
   ]
  },
  {
   "cell_type": "code",
   "execution_count": 69,
   "metadata": {},
   "outputs": [
    {
     "name": "stdout",
     "output_type": "stream",
     "text": [
      "Predicted outcome for new data: 1\n"
     ]
    }
   ],
   "source": [
    "# Predict the outcome for a new datapoint\n",
    "new_data = pd.DataFrame({'month': [12], 'day': [29]})\n",
    "new_data = scaler.transform(new_data)\n",
    "predicted_outcome = mlp.predict(new_data)\n",
    "print(f'Predicted outcome for new data: {predicted_outcome[0]}')\n"
   ]
  },
  {
   "cell_type": "markdown",
   "metadata": {},
   "source": [
    "Predict whether there will be a sale for a range of future dates"
   ]
  },
  {
   "cell_type": "code",
   "execution_count": 70,
   "metadata": {},
   "outputs": [
    {
     "name": "stdout",
     "output_type": "stream",
     "text": [
      "12 23\n",
      "Predicted outcome for 1\n",
      "12 24\n",
      "Predicted outcome for 1\n",
      "12 25\n",
      "Predicted outcome for 1\n",
      "12 26\n",
      "Predicted outcome for 1\n",
      "12 27\n",
      "Predicted outcome for 1\n",
      "12 28\n",
      "Predicted outcome for 1\n",
      "12 29\n",
      "Predicted outcome for 1\n",
      "12 30\n",
      "Predicted outcome for 1\n"
     ]
    }
   ],
   "source": [
    "for month in range(9,13):\n",
    "    \n",
    "    for day in range(1, 31):\n",
    "        new_data = pd.DataFrame({'month': [month], 'day': [day]})\n",
    "        new_data = scaler.transform(new_data)\n",
    "        predicted_outcome = mlp.predict(new_data)\n",
    "        if(predicted_outcome[0] == 1):\n",
    "            print(month, day)\n",
    "            print(f'Predicted outcome for {predicted_outcome[0]}')"
   ]
  }
 ],
 "metadata": {
  "kernelspec": {
   "display_name": "base",
   "language": "python",
   "name": "python3"
  },
  "language_info": {
   "codemirror_mode": {
    "name": "ipython",
    "version": 3
   },
   "file_extension": ".py",
   "mimetype": "text/x-python",
   "name": "python",
   "nbconvert_exporter": "python",
   "pygments_lexer": "ipython3",
   "version": "3.11.5"
  }
 },
 "nbformat": 4,
 "nbformat_minor": 2
}
